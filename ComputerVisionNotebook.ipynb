{
 "cells": [
  {
   "cell_type": "markdown",
   "id": "e21d3942",
   "metadata": {},
   "source": [
    "# ISFL Computer Vision Notebook"
   ]
  },
  {
   "cell_type": "code",
   "execution_count": 1,
   "id": "5fac6bc7",
   "metadata": {},
   "outputs": [],
   "source": [
    "import cv2\n",
    "import yt_dlp\n",
    "import os"
   ]
  },
  {
   "cell_type": "code",
   "execution_count": null,
   "id": "11349217",
   "metadata": {},
   "outputs": [],
   "source": [
    "season = 55\n",
    "week = 7\n",
    "\n",
    "videoFile = f'S{season}W{week}.mp4'\n",
    "outputPath = rf'B:\\ISFL-computer-vision\\videos\\S{season}'\n",
    "\n",
    "if not os.path.exists(outputPath):\n",
    "\tos.makedirs(outputPath, exist_ok=True)\n",
    "\n",
    "os.makedirs(rf\"frames\\S{season}W{week}\", exist_ok=True)"
   ]
  },
  {
   "cell_type": "code",
   "execution_count": 3,
   "id": "edf8aeff",
   "metadata": {},
   "outputs": [
    {
     "name": "stdout",
     "output_type": "stream",
     "text": [
      "[youtube] Extracting URL: https://www.youtube.com/watch?v=XeulI3BWdLU\n",
      "[youtube] XeulI3BWdLU: Downloading webpage\n",
      "[youtube] XeulI3BWdLU: Downloading tv client config\n",
      "[youtube] XeulI3BWdLU: Downloading tv player API JSON\n",
      "[youtube] XeulI3BWdLU: Downloading ios player API JSON\n",
      "[youtube] XeulI3BWdLU: Downloading m3u8 information\n",
      "[info] Testing format 612\n"
     ]
    },
    {
     "name": "stderr",
     "output_type": "stream",
     "text": [
      "[download] Got error: HTTP Error 403: Forbidden\n"
     ]
    },
    {
     "name": "stdout",
     "output_type": "stream",
     "text": [
      "[info] Unable to download format 612. Skipping...\n",
      "[info] XeulI3BWdLU: Downloading 1 format(s): 298\n",
      "[download] B:\\ISFL-computer-vision\\videos\\S55\\S55W7.mp4 has already been downloaded\n",
      "[download] 100% of  308.71MiB\n"
     ]
    }
   ],
   "source": [
    "url = \"https://www.youtube.com/watch?v=XeulI3BWdLU\"\n",
    "ydlOptions = {\n",
    "\t'outtmpl': f\"{outputPath}\\\\{videoFile}\",\n",
    "\t'format': 'bestvideo[height<=720][ext=mp4]',\n",
    "}\n",
    "with yt_dlp.YoutubeDL(ydlOptions) as ydl:\n",
    "\tydl.download([url])"
   ]
  },
  {
   "cell_type": "code",
   "execution_count": 8,
   "id": "520ce0a5",
   "metadata": {},
   "outputs": [
    {
     "name": "stdout",
     "output_type": "stream",
     "text": [
      "Saved 4930 frames.\n"
     ]
    }
   ],
   "source": [
    "frame_id = 0\n",
    "saved_id = 0\n",
    "\n",
    "video = cv2.VideoCapture(f\"{outputPath}\\\\{videoFile}\")\n",
    "fps = int(video.get(cv2.CAP_PROP_FPS))\n",
    "\n",
    "frame_interval = int(fps * 1) # 1 second interval extraction\n",
    "\n",
    "while True:\n",
    "    ret, frame = video.read()\n",
    "    if not ret:\n",
    "        break\n",
    "\n",
    "    if frame_id % frame_interval == 0:\n",
    "        filename = rf\"frames/S{season}W{week}/frame_{saved_id:04d}.jpg\"\n",
    "        cv2.imwrite(filename, frame)\n",
    "        saved_id += 1\n",
    "\n",
    "    frame_id += 1\n",
    "\n",
    "video.release()\n",
    "print(f\"Saved {saved_id} frames.\")"
   ]
  }
 ],
 "metadata": {
  "kernelspec": {
   "display_name": ".venv",
   "language": "python",
   "name": "python3"
  },
  "language_info": {
   "codemirror_mode": {
    "name": "ipython",
    "version": 3
   },
   "file_extension": ".py",
   "mimetype": "text/x-python",
   "name": "python",
   "nbconvert_exporter": "python",
   "pygments_lexer": "ipython3",
   "version": "3.13.5"
  }
 },
 "nbformat": 4,
 "nbformat_minor": 5
}
