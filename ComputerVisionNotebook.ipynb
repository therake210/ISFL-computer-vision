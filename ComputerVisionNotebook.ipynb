{
 "cells": [
  {
   "cell_type": "markdown",
   "id": "e21d3942",
   "metadata": {},
   "source": [
    "# ISFL Computer Vision Notebook"
   ]
  },
  {
   "cell_type": "code",
   "execution_count": null,
   "id": "5fac6bc7",
   "metadata": {},
   "outputs": [],
   "source": []
  }
 ],
 "metadata": {
  "kernelspec": {
   "display_name": ".venv",
   "language": "python",
   "name": "python3"
  },
  "language_info": {
   "name": "python",
   "version": "3.13.5"
  }
 },
 "nbformat": 4,
 "nbformat_minor": 5
}
